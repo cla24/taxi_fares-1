{
 "cells": [
  {
   "cell_type": "code",
   "execution_count": 847,
   "metadata": {},
   "outputs": [],
   "source": [
    "import pandas as pd\n",
    "import numpy as np\n",
    "import seaborn as sns\n",
    "import matplotlib.pyplot as plt\n",
    "from sklearn.metrics.pairwise import haversine_distances"
   ]
  },
  {
   "cell_type": "markdown",
   "metadata": {},
   "source": [
    "In order to avoid crashing the kernel, only read a portion of the data"
   ]
  },
  {
   "cell_type": "code",
   "execution_count": 848,
   "metadata": {},
   "outputs": [
    {
     "data": {
      "text/html": [
       "<div>\n",
       "<style scoped>\n",
       "    .dataframe tbody tr th:only-of-type {\n",
       "        vertical-align: middle;\n",
       "    }\n",
       "\n",
       "    .dataframe tbody tr th {\n",
       "        vertical-align: top;\n",
       "    }\n",
       "\n",
       "    .dataframe thead th {\n",
       "        text-align: right;\n",
       "    }\n",
       "</style>\n",
       "<table border=\"1\" class=\"dataframe\">\n",
       "  <thead>\n",
       "    <tr style=\"text-align: right;\">\n",
       "      <th></th>\n",
       "      <th>key</th>\n",
       "      <th>fare_amount</th>\n",
       "      <th>pickup_datetime</th>\n",
       "      <th>pickup_longitude</th>\n",
       "      <th>pickup_latitude</th>\n",
       "      <th>dropoff_longitude</th>\n",
       "      <th>dropoff_latitude</th>\n",
       "      <th>passenger_count</th>\n",
       "    </tr>\n",
       "  </thead>\n",
       "  <tbody>\n",
       "    <tr>\n",
       "      <th>0</th>\n",
       "      <td>2009-06-15 17:26:21.0000001</td>\n",
       "      <td>4.5</td>\n",
       "      <td>2009-06-15 17:26:21 UTC</td>\n",
       "      <td>-73.844311</td>\n",
       "      <td>40.721319</td>\n",
       "      <td>-73.841610</td>\n",
       "      <td>40.712278</td>\n",
       "      <td>1</td>\n",
       "    </tr>\n",
       "    <tr>\n",
       "      <th>1</th>\n",
       "      <td>2010-01-05 16:52:16.0000002</td>\n",
       "      <td>16.9</td>\n",
       "      <td>2010-01-05 16:52:16 UTC</td>\n",
       "      <td>-74.016048</td>\n",
       "      <td>40.711303</td>\n",
       "      <td>-73.979268</td>\n",
       "      <td>40.782004</td>\n",
       "      <td>1</td>\n",
       "    </tr>\n",
       "    <tr>\n",
       "      <th>2</th>\n",
       "      <td>2011-08-18 00:35:00.00000049</td>\n",
       "      <td>5.7</td>\n",
       "      <td>2011-08-18 00:35:00 UTC</td>\n",
       "      <td>-73.982738</td>\n",
       "      <td>40.761270</td>\n",
       "      <td>-73.991242</td>\n",
       "      <td>40.750562</td>\n",
       "      <td>2</td>\n",
       "    </tr>\n",
       "    <tr>\n",
       "      <th>3</th>\n",
       "      <td>2012-04-21 04:30:42.0000001</td>\n",
       "      <td>7.7</td>\n",
       "      <td>2012-04-21 04:30:42 UTC</td>\n",
       "      <td>-73.987130</td>\n",
       "      <td>40.733143</td>\n",
       "      <td>-73.991567</td>\n",
       "      <td>40.758092</td>\n",
       "      <td>1</td>\n",
       "    </tr>\n",
       "    <tr>\n",
       "      <th>4</th>\n",
       "      <td>2010-03-09 07:51:00.000000135</td>\n",
       "      <td>5.3</td>\n",
       "      <td>2010-03-09 07:51:00 UTC</td>\n",
       "      <td>-73.968095</td>\n",
       "      <td>40.768008</td>\n",
       "      <td>-73.956655</td>\n",
       "      <td>40.783762</td>\n",
       "      <td>1</td>\n",
       "    </tr>\n",
       "  </tbody>\n",
       "</table>\n",
       "</div>"
      ],
      "text/plain": [
       "                             key  fare_amount          pickup_datetime  \\\n",
       "0    2009-06-15 17:26:21.0000001          4.5  2009-06-15 17:26:21 UTC   \n",
       "1    2010-01-05 16:52:16.0000002         16.9  2010-01-05 16:52:16 UTC   \n",
       "2   2011-08-18 00:35:00.00000049          5.7  2011-08-18 00:35:00 UTC   \n",
       "3    2012-04-21 04:30:42.0000001          7.7  2012-04-21 04:30:42 UTC   \n",
       "4  2010-03-09 07:51:00.000000135          5.3  2010-03-09 07:51:00 UTC   \n",
       "\n",
       "   pickup_longitude  pickup_latitude  dropoff_longitude  dropoff_latitude  \\\n",
       "0        -73.844311        40.721319         -73.841610         40.712278   \n",
       "1        -74.016048        40.711303         -73.979268         40.782004   \n",
       "2        -73.982738        40.761270         -73.991242         40.750562   \n",
       "3        -73.987130        40.733143         -73.991567         40.758092   \n",
       "4        -73.968095        40.768008         -73.956655         40.783762   \n",
       "\n",
       "   passenger_count  \n",
       "0                1  \n",
       "1                1  \n",
       "2                2  \n",
       "3                1  \n",
       "4                1  "
      ]
     },
     "execution_count": 848,
     "metadata": {},
     "output_type": "execute_result"
    }
   ],
   "source": [
    "df = pd.read_csv('train.csv', nrows = 1_000_000)\n",
    "df.head()"
   ]
  },
  {
   "cell_type": "markdown",
   "metadata": {},
   "source": [
    "In order to determine the amount of distance traveled, use the Haversine formula\n",
    "\n",
    "Note, I didn't use Euclidean distance because the coordinates are points on a sphere. "
   ]
  },
  {
   "cell_type": "code",
   "execution_count": 849,
   "metadata": {},
   "outputs": [],
   "source": [
    "def hav_distance(lon1, lat1, lon2, lat2):\n",
    "    # use sklearn's haversine function and multiply by Earth's radius to get distance in km\n",
    "    return haversine_distances([[lon1, lat1], [lon2, lat2]])[0][1] * 6371000/1000\n",
    "\n",
    "# create new feature using this function, distance in km\n",
    "df['distance_traveled_km'] = df.apply(lambda x: hav_distance(x['pickup_longitude'], x['pickup_latitude'], \n",
    "                                                             x['dropoff_longitude'], x['dropoff_latitude']), axis=1)"
   ]
  },
  {
   "cell_type": "markdown",
   "metadata": {},
   "source": [
    "Add two more features for difference in longitude and latitude"
   ]
  },
  {
   "cell_type": "code",
   "execution_count": 850,
   "metadata": {},
   "outputs": [],
   "source": [
    "def distance_diff(start, end):\n",
    "    return abs(end - start)\n",
    "\n",
    "df['lat_dif'] = df.apply(lambda x: distance_diff(x['pickup_longitude'], x['dropoff_longitude']), axis=1)\n",
    "df['lon_dif'] = df.apply(lambda x: distance_diff(x['pickup_latitude'], x['dropoff_longitude']), axis=1)"
   ]
  },
  {
   "cell_type": "markdown",
   "metadata": {},
   "source": [
    "To clean the data, drop any NaNs from the df"
   ]
  },
  {
   "cell_type": "code",
   "execution_count": 851,
   "metadata": {},
   "outputs": [
    {
     "name": "stdout",
     "output_type": "stream",
     "text": [
      "New number of observations: 999990\n"
     ]
    }
   ],
   "source": [
    "df = df.dropna(axis='rows')\n",
    "print('New number of observations: %d' % len(df))"
   ]
  },
  {
   "cell_type": "markdown",
   "metadata": {},
   "source": [
    "Find distribution of the distance traveled"
   ]
  },
  {
   "cell_type": "code",
   "execution_count": 852,
   "metadata": {},
   "outputs": [
    {
     "data": {
      "text/plain": [
       "<matplotlib.axes._subplots.AxesSubplot at 0x7f162ddaea00>"
      ]
     },
     "execution_count": 852,
     "metadata": {},
     "output_type": "execute_result"
    },
    {
     "data": {
      "image/png": "[encoded data removed]",
      "text/plain": [
       "<Figure size 432x288 with 1 Axes>"
      ]
     },
     "metadata": {
      "needs_background": "light"
     },
     "output_type": "display_data"
    }
   ],
   "source": [
    "sns.distplot(df['distance_traveled_km'])"
   ]
  },
  {
   "cell_type": "code",
   "execution_count": 853,
   "metadata": {},
   "outputs": [
    {
     "data": {
      "text/plain": [
       "621.2290233476851"
      ]
     },
     "execution_count": 853,
     "metadata": {},
     "output_type": "execute_result"
    }
   ],
   "source": [
    "df['distance_traveled_km'].quantile(.95)"
   ]
  },
  {
   "cell_type": "markdown",
   "metadata": {},
   "source": [
    "Some of the observations are too high to make sense, so take out all of the rows where the distance traveled is above the 95th percentile, then also take out all of the rows where the distances is 0"
   ]
  },
  {
   "cell_type": "code",
   "execution_count": 854,
   "metadata": {},
   "outputs": [
    {
     "data": {
      "text/plain": [
       "count    921504.000000\n",
       "mean        107.724525\n",
       "std          96.291255\n",
       "min           0.000214\n",
       "25%          42.439587\n",
       "50%          80.011456\n",
       "75%         141.368595\n",
       "max         621.220036\n",
       "Name: distance_traveled_km, dtype: float64"
      ]
     },
     "execution_count": 854,
     "metadata": {},
     "output_type": "execute_result"
    }
   ],
   "source": [
    "df = df[df['distance_traveled_km'] <= df['distance_traveled_km'].quantile(.95)]\n",
    "df = df[df['distance_traveled_km'] > 0]\n",
    "df['distance_traveled_km'].describe()"
   ]
  },
  {
   "cell_type": "markdown",
   "metadata": {},
   "source": [
    "New distribution after the filtering"
   ]
  },
  {
   "cell_type": "code",
   "execution_count": 855,
   "metadata": {},
   "outputs": [
    {
     "data": {
      "text/plain": [
       "<matplotlib.axes._subplots.AxesSubplot at 0x7f162dc04cd0>"
      ]
     },
     "execution_count": 855,
     "metadata": {},
     "output_type": "execute_result"
    },
    {
     "data": {
      "image/png": "[encoded data removed]",
      "text/plain": [
       "<Figure size 432x288 with 1 Axes>"
      ]
     },
     "metadata": {
      "needs_background": "light"
     },
     "output_type": "display_data"
    }
   ],
   "source": [
    "sns.distplot(df['distance_traveled_km'])"
   ]
  },
  {
   "cell_type": "markdown",
   "metadata": {},
   "source": [
    "Some of the fares also make no sense, so fix that too.\n",
    "\n",
    "Since as of 2018, the lowest base fee for a taxi ride in NYC is $2.50, I'll drop observations with fare_amount below 1.5"
   ]
  },
  {
   "cell_type": "code",
   "execution_count": 856,
   "metadata": {},
   "outputs": [],
   "source": [
    "df = df[df['fare_amount'] > 1.5]"
   ]
  },
  {
   "cell_type": "code",
   "execution_count": 857,
   "metadata": {},
   "outputs": [
    {
     "data": {
      "text/plain": [
       "57.33"
      ]
     },
     "execution_count": 857,
     "metadata": {},
     "output_type": "execute_result"
    }
   ],
   "source": [
    "df['fare_amount'].quantile(.999)"
   ]
  },
  {
   "cell_type": "markdown",
   "metadata": {},
   "source": [
    "If the 99.9th percentile is less than 58, it looks safe to just cut out values >= 60"
   ]
  },
  {
   "cell_type": "code",
   "execution_count": 858,
   "metadata": {},
   "outputs": [
    {
     "data": {
      "text/plain": [
       "count    920744.000000\n",
       "mean          9.757954\n",
       "std           5.886955\n",
       "min           2.500000\n",
       "25%           6.000000\n",
       "50%           8.100000\n",
       "75%          11.700000\n",
       "max          59.830000\n",
       "Name: fare_amount, dtype: float64"
      ]
     },
     "execution_count": 858,
     "metadata": {},
     "output_type": "execute_result"
    }
   ],
   "source": [
    "df = df[df['fare_amount'] < 60]\n",
    "df['fare_amount'].describe()"
   ]
  },
  {
   "cell_type": "code",
   "execution_count": 859,
   "metadata": {},
   "outputs": [
    {
     "data": {
      "text/plain": [
       "Text(0.5, 1.0, 'Histogram')"
      ]
     },
     "execution_count": 859,
     "metadata": {},
     "output_type": "execute_result"
    },
    {
     "data": {
      "image/png": "[encoded data removed]",
      "text/plain": [
       "<Figure size 1008x216 with 1 Axes>"
      ]
     },
     "metadata": {
      "needs_background": "light"
     },
     "output_type": "display_data"
    }
   ],
   "source": [
    "df.fare_amount.hist(bins=100, figsize=(14,3))\n",
    "plt.xlabel('fare $USD')\n",
    "plt.title('Histogram')"
   ]
  },
  {
   "cell_type": "markdown",
   "metadata": {},
   "source": [
    "Then cut out all of the rows where the passenger count is zero"
   ]
  },
  {
   "cell_type": "code",
   "execution_count": 860,
   "metadata": {},
   "outputs": [],
   "source": [
    "df = df[df['passenger_count'] > 0]"
   ]
  },
  {
   "cell_type": "code",
   "execution_count": 861,
   "metadata": {},
   "outputs": [
    {
     "data": {
      "text/html": [
       "<div>\n",
       "<style scoped>\n",
       "    .dataframe tbody tr th:only-of-type {\n",
       "        vertical-align: middle;\n",
       "    }\n",
       "\n",
       "    .dataframe tbody tr th {\n",
       "        vertical-align: top;\n",
       "    }\n",
       "\n",
       "    .dataframe thead th {\n",
       "        text-align: right;\n",
       "    }\n",
       "</style>\n",
       "<table border=\"1\" class=\"dataframe\">\n",
       "  <thead>\n",
       "    <tr style=\"text-align: right;\">\n",
       "      <th></th>\n",
       "      <th>pickup_latitude</th>\n",
       "      <th>pickup_longitude</th>\n",
       "    </tr>\n",
       "  </thead>\n",
       "  <tbody>\n",
       "    <tr>\n",
       "      <th>count</th>\n",
       "      <td>917330.000000</td>\n",
       "      <td>917330.000000</td>\n",
       "    </tr>\n",
       "    <tr>\n",
       "      <th>mean</th>\n",
       "      <td>40.694324</td>\n",
       "      <td>-73.916658</td>\n",
       "    </tr>\n",
       "    <tr>\n",
       "      <th>std</th>\n",
       "      <td>2.706547</td>\n",
       "      <td>2.633202</td>\n",
       "    </tr>\n",
       "    <tr>\n",
       "      <th>min</th>\n",
       "      <td>-74.016587</td>\n",
       "      <td>-121.391210</td>\n",
       "    </tr>\n",
       "    <tr>\n",
       "      <th>25%</th>\n",
       "      <td>40.737075</td>\n",
       "      <td>-73.992561</td>\n",
       "    </tr>\n",
       "    <tr>\n",
       "      <th>50%</th>\n",
       "      <td>40.753385</td>\n",
       "      <td>-73.982383</td>\n",
       "    </tr>\n",
       "    <tr>\n",
       "      <th>75%</th>\n",
       "      <td>40.767190</td>\n",
       "      <td>-73.969800</td>\n",
       "    </tr>\n",
       "    <tr>\n",
       "      <th>max</th>\n",
       "      <td>424.083332</td>\n",
       "      <td>40.812887</td>\n",
       "    </tr>\n",
       "  </tbody>\n",
       "</table>\n",
       "</div>"
      ],
      "text/plain": [
       "       pickup_latitude  pickup_longitude\n",
       "count    917330.000000     917330.000000\n",
       "mean         40.694324        -73.916658\n",
       "std           2.706547          2.633202\n",
       "min         -74.016587       -121.391210\n",
       "25%          40.737075        -73.992561\n",
       "50%          40.753385        -73.982383\n",
       "75%          40.767190        -73.969800\n",
       "max         424.083332         40.812887"
      ]
     },
     "execution_count": 861,
     "metadata": {},
     "output_type": "execute_result"
    }
   ],
   "source": [
    "df[['pickup_latitude', 'pickup_longitude']].describe()"
   ]
  },
  {
   "cell_type": "markdown",
   "metadata": {},
   "source": [
    "Clearly some of longitudes and latitudes do not make sense. 40 degrees lattitude is well into NJ,\n",
    "so any rows with < 40 latitude should be dropped. Similarly anything > 42 degrees lattitude is very north of NYC and should also be dropped\n",
    "\n",
    "As for longitude, anything above -72 degrees is east of Long Island and should be dropped. Anything below -75 is far west of NYC and should also be cut"
   ]
  },
  {
   "cell_type": "code",
   "execution_count": 862,
   "metadata": {},
   "outputs": [],
   "source": [
    "# cut rows with latitude <= 40\n",
    "df = df[df['pickup_latitude'] > 40]\n",
    "\n",
    "# cut rows with latitude >= 42\n",
    "df = df[df['pickup_latitude'] < 42]\n",
    "\n",
    "# cut rows with longitude >= -72\n",
    "df = df[df['pickup_longitude'] < -72]\n",
    "\n",
    "# cut rows with longitude <= -75\n",
    "df = df[df['pickup_longitude'] > -75]"
   ]
  },
  {
   "cell_type": "markdown",
   "metadata": {},
   "source": [
    "I think the time of day may be relevant to the fares, so I'll create a new feature called pickup_hour that will have the hour of the day extracted from the datetime stamp"
   ]
  },
  {
   "cell_type": "code",
   "execution_count": 863,
   "metadata": {},
   "outputs": [],
   "source": [
    "# function to parse datetime stamp and extract hour of the day\n",
    "def time_parse(time_str):\n",
    "    time = time_str.split()[1]\n",
    "    return int(time.split(\":\")[0])\n",
    "\n",
    "df['pickup_hour'] = df.apply(lambda x: time_parse(x['pickup_datetime']), axis=1)"
   ]
  },
  {
   "cell_type": "markdown",
   "metadata": {},
   "source": [
    "Then, try fitting multiple linear regression model to training data, then test with test.csv"
   ]
  },
  {
   "cell_type": "code",
   "execution_count": 864,
   "metadata": {
    "scrolled": true
   },
   "outputs": [
    {
     "data": {
      "text/plain": [
       "Text(0.5, 1.0, 'Pickup Hour Distribution')"
      ]
     },
     "execution_count": 864,
     "metadata": {},
     "output_type": "execute_result"
    },
    {
     "data": {
      "image/png": "[encoded data removed]",
      "text/plain": [
       "<Figure size 1008x216 with 1 Axes>"
      ]
     },
     "metadata": {
      "needs_background": "light"
     },
     "output_type": "display_data"
    }
   ],
   "source": [
    "df.pickup_hour.hist(bins=100, figsize=(14,3))\n",
    "plt.xlabel('Pickup Hour')\n",
    "plt.title('Pickup Hour Distribution')"
   ]
  },
  {
   "cell_type": "code",
   "execution_count": 865,
   "metadata": {},
   "outputs": [
    {
     "data": {
      "text/plain": [
       "count    916700.000000\n",
       "mean          9.763159\n",
       "std           5.890711\n",
       "min           2.500000\n",
       "25%           6.000000\n",
       "50%           8.100000\n",
       "75%          11.700000\n",
       "max          59.830000\n",
       "Name: fare_amount, dtype: float64"
      ]
     },
     "execution_count": 865,
     "metadata": {},
     "output_type": "execute_result"
    }
   ],
   "source": [
    "df['fare_amount'].describe()"
   ]
  },
  {
   "cell_type": "markdown",
   "metadata": {},
   "source": [
    "Next figure out the average fare for each hour"
   ]
  },
  {
   "cell_type": "code",
   "execution_count": 866,
   "metadata": {},
   "outputs": [
    {
     "data": {
      "text/plain": [
       "pickup_hour\n",
       "0     10.645764\n",
       "1     10.617459\n",
       "2     10.684989\n",
       "3     10.996552\n",
       "4     11.245043\n",
       "5     10.552074\n",
       "6      9.095901\n",
       "7      9.132586\n",
       "8      9.492579\n",
       "9      9.507556\n",
       "10     9.398372\n",
       "11     9.497832\n",
       "12     9.517612\n",
       "13     9.559249\n",
       "14     9.597877\n",
       "15     9.594305\n",
       "16     9.426025\n",
       "17     9.611208\n",
       "18     9.627188\n",
       "19     9.445463\n",
       "20     9.585508\n",
       "21     9.860345\n",
       "22    10.184498\n",
       "23    10.418996\n",
       "Name: fare_amount, dtype: float64"
      ]
     },
     "execution_count": 866,
     "metadata": {},
     "output_type": "execute_result"
    }
   ],
   "source": [
    "means = df.groupby('pickup_hour')['fare_amount'].mean()\n",
    "means"
   ]
  },
  {
   "cell_type": "markdown",
   "metadata": {},
   "source": [
    "Add another feature for the fares categorized into bins of every $5 to see the most common ranges"
   ]
  },
  {
   "cell_type": "code",
   "execution_count": 867,
   "metadata": {},
   "outputs": [
    {
     "data": {
      "text/plain": [
       "count          916700\n",
       "unique             10\n",
       "top       (5.0, 10.0]\n",
       "freq           453052\n",
       "Name: fare_bin, dtype: object"
      ]
     },
     "execution_count": 867,
     "metadata": {},
     "output_type": "execute_result"
    }
   ],
   "source": [
    "df['fare_bin'] = pd.cut(df['fare_amount'], bins = list(range(0, 50, 5))).astype(str)\n",
    "df['fare_bin'].describe()"
   ]
  },
  {
   "cell_type": "code",
   "execution_count": 868,
   "metadata": {},
   "outputs": [
    {
     "data": {
      "image/png": "[encoded data removed]",
      "text/plain": [
       "<Figure size 432x288 with 1 Axes>"
      ]
     },
     "metadata": {
      "needs_background": "light"
     },
     "output_type": "display_data"
    }
   ],
   "source": [
    "# Uppermost bin\n",
    "df.loc[df['fare_bin'] == 'nan', 'fare_bin'] = '[45+]'\n",
    "\n",
    "# Bar plot of value counts\n",
    "df['fare_bin'].value_counts().sort_index().plot.bar(color = 'b', edgecolor = 'k');\n",
    "plt.title('Fare Binned');"
   ]
  },
  {
   "cell_type": "markdown",
   "metadata": {},
   "source": [
    "There doesn't seem to be a huge difference between the different averages based on time of day"
   ]
  },
  {
   "cell_type": "markdown",
   "metadata": {},
   "source": [
    "I wanted to see which features may prove useful in a model so I created a correlation matrix"
   ]
  },
  {
   "cell_type": "code",
   "execution_count": 869,
   "metadata": {},
   "outputs": [
    {
     "data": {
      "image/png": "[encoded data removed]",
      "text/plain": [
       "<Figure size 864x864 with 2 Axes>"
      ]
     },
     "metadata": {
      "needs_background": "light"
     },
     "output_type": "display_data"
    }
   ],
   "source": [
    "corrs = df.corr()\n",
    "\n",
    "plt.figure(figsize = (12, 12))\n",
    "sns.heatmap(corrs, annot = True, vmin = -1, vmax = 1, fmt = '.3f', cmap=plt.cm.PiYG_r);"
   ]
  },
  {
   "cell_type": "code",
   "execution_count": 870,
   "metadata": {},
   "outputs": [
    {
     "data": {
      "text/html": [
       "<div>\n",
       "<style scoped>\n",
       "    .dataframe tbody tr th:only-of-type {\n",
       "        vertical-align: middle;\n",
       "    }\n",
       "\n",
       "    .dataframe tbody tr th {\n",
       "        vertical-align: top;\n",
       "    }\n",
       "\n",
       "    .dataframe thead th {\n",
       "        text-align: right;\n",
       "    }\n",
       "</style>\n",
       "<table border=\"1\" class=\"dataframe\">\n",
       "  <thead>\n",
       "    <tr style=\"text-align: right;\">\n",
       "      <th></th>\n",
       "      <th>count</th>\n",
       "      <th>nunique</th>\n",
       "    </tr>\n",
       "    <tr>\n",
       "      <th>fare_amount</th>\n",
       "      <th></th>\n",
       "      <th></th>\n",
       "    </tr>\n",
       "  </thead>\n",
       "  <tbody>\n",
       "    <tr>\n",
       "      <th>6.5</th>\n",
       "      <td>46981</td>\n",
       "      <td>46981.0</td>\n",
       "    </tr>\n",
       "    <tr>\n",
       "      <th>4.5</th>\n",
       "      <td>39514</td>\n",
       "      <td>39514.0</td>\n",
       "    </tr>\n",
       "    <tr>\n",
       "      <th>8.5</th>\n",
       "      <td>36285</td>\n",
       "      <td>36285.0</td>\n",
       "    </tr>\n",
       "    <tr>\n",
       "      <th>5.3</th>\n",
       "      <td>28059</td>\n",
       "      <td>28059.0</td>\n",
       "    </tr>\n",
       "    <tr>\n",
       "      <th>5.7</th>\n",
       "      <td>27954</td>\n",
       "      <td>27954.0</td>\n",
       "    </tr>\n",
       "  </tbody>\n",
       "</table>\n",
       "</div>"
      ],
      "text/plain": [
       "             count  nunique\n",
       "fare_amount                \n",
       "6.5          46981  46981.0\n",
       "4.5          39514  39514.0\n",
       "8.5          36285  36285.0\n",
       "5.3          28059  28059.0\n",
       "5.7          27954  27954.0"
      ]
     },
     "execution_count": 870,
     "metadata": {},
     "output_type": "execute_result"
    }
   ],
   "source": [
    "fare_counts = df.groupby('fare_amount')['distance_traveled_km'].agg(['count', pd.Series.nunique]).sort_values('count', ascending = False)\n",
    "fare_counts.head()"
   ]
  },
  {
   "cell_type": "markdown",
   "metadata": {},
   "source": [
    "Now prepare to train and test the model, create a train-test split.  I'll stratify the split using the previously created 'fare_bin' in order to avoid a lot of outliers.\n",
    "\n",
    "Here, I'll use a linear regression to build the model."
   ]
  },
  {
   "cell_type": "code",
   "execution_count": 871,
   "metadata": {},
   "outputs": [],
   "source": [
    "from sklearn.linear_model import LinearRegression\n",
    "from sklearn.model_selection import train_test_split\n",
    "\n",
    "lr = LinearRegression()"
   ]
  },
  {
   "cell_type": "code",
   "execution_count": 872,
   "metadata": {},
   "outputs": [
    {
     "data": {
      "text/html": [
       "<div>\n",
       "<style scoped>\n",
       "    .dataframe tbody tr th:only-of-type {\n",
       "        vertical-align: middle;\n",
       "    }\n",
       "\n",
       "    .dataframe tbody tr th {\n",
       "        vertical-align: top;\n",
       "    }\n",
       "\n",
       "    .dataframe thead th {\n",
       "        text-align: right;\n",
       "    }\n",
       "</style>\n",
       "<table border=\"1\" class=\"dataframe\">\n",
       "  <thead>\n",
       "    <tr style=\"text-align: right;\">\n",
       "      <th></th>\n",
       "      <th>key</th>\n",
       "      <th>fare_amount</th>\n",
       "      <th>pickup_datetime</th>\n",
       "      <th>pickup_longitude</th>\n",
       "      <th>pickup_latitude</th>\n",
       "      <th>dropoff_longitude</th>\n",
       "      <th>dropoff_latitude</th>\n",
       "      <th>passenger_count</th>\n",
       "      <th>distance_traveled_km</th>\n",
       "      <th>lat_dif</th>\n",
       "      <th>lon_dif</th>\n",
       "      <th>pickup_hour</th>\n",
       "      <th>fare_bin</th>\n",
       "    </tr>\n",
       "  </thead>\n",
       "  <tbody>\n",
       "    <tr>\n",
       "      <th>0</th>\n",
       "      <td>2009-06-15 17:26:21.0000001</td>\n",
       "      <td>4.5</td>\n",
       "      <td>2009-06-15 17:26:21 UTC</td>\n",
       "      <td>-73.844311</td>\n",
       "      <td>40.721319</td>\n",
       "      <td>-73.841610</td>\n",
       "      <td>40.712278</td>\n",
       "      <td>1</td>\n",
       "      <td>17.231137</td>\n",
       "      <td>0.002701</td>\n",
       "      <td>114.562929</td>\n",
       "      <td>17</td>\n",
       "      <td>(0.0, 5.0]</td>\n",
       "    </tr>\n",
       "    <tr>\n",
       "      <th>1</th>\n",
       "      <td>2010-01-05 16:52:16.0000002</td>\n",
       "      <td>16.9</td>\n",
       "      <td>2010-01-05 16:52:16 UTC</td>\n",
       "      <td>-74.016048</td>\n",
       "      <td>40.711303</td>\n",
       "      <td>-73.979268</td>\n",
       "      <td>40.782004</td>\n",
       "      <td>1</td>\n",
       "      <td>246.295936</td>\n",
       "      <td>0.036780</td>\n",
       "      <td>114.690571</td>\n",
       "      <td>16</td>\n",
       "      <td>(15.0, 20.0]</td>\n",
       "    </tr>\n",
       "    <tr>\n",
       "      <th>2</th>\n",
       "      <td>2011-08-18 00:35:00.00000049</td>\n",
       "      <td>5.7</td>\n",
       "      <td>2011-08-18 00:35:00 UTC</td>\n",
       "      <td>-73.982738</td>\n",
       "      <td>40.761270</td>\n",
       "      <td>-73.991242</td>\n",
       "      <td>40.750562</td>\n",
       "      <td>2</td>\n",
       "      <td>55.251875</td>\n",
       "      <td>0.008504</td>\n",
       "      <td>114.752512</td>\n",
       "      <td>0</td>\n",
       "      <td>(5.0, 10.0]</td>\n",
       "    </tr>\n",
       "    <tr>\n",
       "      <th>3</th>\n",
       "      <td>2012-04-21 04:30:42.0000001</td>\n",
       "      <td>7.7</td>\n",
       "      <td>2012-04-21 04:30:42 UTC</td>\n",
       "      <td>-73.987130</td>\n",
       "      <td>40.733143</td>\n",
       "      <td>-73.991567</td>\n",
       "      <td>40.758092</td>\n",
       "      <td>1</td>\n",
       "      <td>38.152003</td>\n",
       "      <td>0.004437</td>\n",
       "      <td>114.724710</td>\n",
       "      <td>4</td>\n",
       "      <td>(5.0, 10.0]</td>\n",
       "    </tr>\n",
       "    <tr>\n",
       "      <th>4</th>\n",
       "      <td>2010-03-09 07:51:00.000000135</td>\n",
       "      <td>5.3</td>\n",
       "      <td>2010-03-09 07:51:00 UTC</td>\n",
       "      <td>-73.968095</td>\n",
       "      <td>40.768008</td>\n",
       "      <td>-73.956655</td>\n",
       "      <td>40.783762</td>\n",
       "      <td>1</td>\n",
       "      <td>74.122374</td>\n",
       "      <td>0.011440</td>\n",
       "      <td>114.724663</td>\n",
       "      <td>7</td>\n",
       "      <td>(5.0, 10.0]</td>\n",
       "    </tr>\n",
       "  </tbody>\n",
       "</table>\n",
       "</div>"
      ],
      "text/plain": [
       "                             key  fare_amount          pickup_datetime  \\\n",
       "0    2009-06-15 17:26:21.0000001          4.5  2009-06-15 17:26:21 UTC   \n",
       "1    2010-01-05 16:52:16.0000002         16.9  2010-01-05 16:52:16 UTC   \n",
       "2   2011-08-18 00:35:00.00000049          5.7  2011-08-18 00:35:00 UTC   \n",
       "3    2012-04-21 04:30:42.0000001          7.7  2012-04-21 04:30:42 UTC   \n",
       "4  2010-03-09 07:51:00.000000135          5.3  2010-03-09 07:51:00 UTC   \n",
       "\n",
       "   pickup_longitude  pickup_latitude  dropoff_longitude  dropoff_latitude  \\\n",
       "0        -73.844311        40.721319         -73.841610         40.712278   \n",
       "1        -74.016048        40.711303         -73.979268         40.782004   \n",
       "2        -73.982738        40.761270         -73.991242         40.750562   \n",
       "3        -73.987130        40.733143         -73.991567         40.758092   \n",
       "4        -73.968095        40.768008         -73.956655         40.783762   \n",
       "\n",
       "   passenger_count  distance_traveled_km   lat_dif     lon_dif  pickup_hour  \\\n",
       "0                1             17.231137  0.002701  114.562929           17   \n",
       "1                1            246.295936  0.036780  114.690571           16   \n",
       "2                2             55.251875  0.008504  114.752512            0   \n",
       "3                1             38.152003  0.004437  114.724710            4   \n",
       "4                1             74.122374  0.011440  114.724663            7   \n",
       "\n",
       "       fare_bin  \n",
       "0    (0.0, 5.0]  \n",
       "1  (15.0, 20.0]  \n",
       "2   (5.0, 10.0]  \n",
       "3   (5.0, 10.0]  \n",
       "4   (5.0, 10.0]  "
      ]
     },
     "execution_count": 872,
     "metadata": {},
     "output_type": "execute_result"
    }
   ],
   "source": [
    "df.head()"
   ]
  },
  {
   "cell_type": "markdown",
   "metadata": {},
   "source": [
    "create 4 groups: X_train (training group), X_test (test group), Y_train (target for training), Y_test (target for test)"
   ]
  },
  {
   "cell_type": "code",
   "execution_count": 873,
   "metadata": {},
   "outputs": [],
   "source": [
    "RSEED = 100\n",
    "\n",
    "X_train, X_valid, y_train, y_valid = train_test_split(df, np.array(df['fare_amount']), \n",
    "                                                      stratify = df['fare_bin'],\n",
    "                                                      random_state = RSEED, test_size = 500_000)"
   ]
  },
  {
   "cell_type": "markdown",
   "metadata": {},
   "source": [
    "Let's start by trying a model with a bunch of features, the initial features that may be relevant plus the features we added"
   ]
  },
  {
   "cell_type": "code",
   "execution_count": 874,
   "metadata": {},
   "outputs": [
    {
     "data": {
      "text/plain": [
       "LinearRegression()"
      ]
     },
     "execution_count": 874,
     "metadata": {},
     "output_type": "execute_result"
    }
   ],
   "source": [
    "lr.fit(X_train[['distance_traveled_km', 'lat_dif', 'lon_dif', 'pickup_hour', 'passenger_count']], y_train)"
   ]
  },
  {
   "cell_type": "code",
   "execution_count": 875,
   "metadata": {},
   "outputs": [
    {
     "name": "stdout",
     "output_type": "stream",
     "text": [
      "Training:   rmse = 4.5069 \t mape = 32.8932\n",
      "Validation: rmse = 28.3964 \t mape = 33.6692\n"
     ]
    }
   ],
   "source": [
    "from sklearn.metrics import mean_squared_error\n",
    "\n",
    "def metrics(train_pred, valid_pred, y_train, y_valid):\n",
    "    \"\"\"Root mean squared error and mean absolute percentage error\"\"\"\n",
    "    \n",
    "    train_rmse = np.sqrt(mean_squared_error(y_train, train_pred))\n",
    "    valid_rmse = np.sqrt(mean_squared_error(y_valid, valid_pred))\n",
    "    \n",
    "    train_ape = abs((y_train - train_pred) / y_train)\n",
    "    valid_ape = abs((y_valid - valid_pred) / y_valid)\n",
    "    \n",
    "    train_mape = 100 * np.mean(train_ape)\n",
    "    valid_mape = 100 * np.mean(valid_ape)\n",
    "    \n",
    "    return train_rmse, valid_rmse, train_mape, valid_mape\n",
    "\n",
    "def evaluate(model, features, X_train, X_valid, y_train, y_valid):\n",
    "    \"\"\"Mean absolute percentage error\"\"\"\n",
    "    \n",
    "    train_pred = model.predict(X_train[features])\n",
    "    valid_pred = model.predict(X_valid[features])\n",
    "    \n",
    "    train_rmse, valid_rmse, train_mape, valid_mape = metrics(train_pred, valid_pred,\n",
    "                                                             y_train, y_valid)\n",
    "    \n",
    "    print(f'Training:   rmse = {round(train_rmse, 4)} \\t mape = {round(train_mape, 4)}')\n",
    "    print(f'Validation: rmse = {round(valid_rmse, 4)} \\t mape = {round(valid_mape, 4)}')\n",
    "\n",
    "evaluate(lr, ['distance_traveled_km', 'lat_dif', 'lon_dif', 'pickup_hour', 'passenger_count'], \n",
    "        X_train, X_valid, y_train, y_valid)"
   ]
  },
  {
   "cell_type": "markdown",
   "metadata": {},
   "source": [
    "The rmse is way higher for training than for validation, so this looks like a case of overfitting. To fit this, I'll cut out features that are likely not explanatory"
   ]
  },
  {
   "cell_type": "markdown",
   "metadata": {},
   "source": [
    "Now, I'll fit the linear regression to distance_traveled_km, passenger_count, and pickup_time"
   ]
  },
  {
   "cell_type": "code",
   "execution_count": 876,
   "metadata": {},
   "outputs": [
    {
     "data": {
      "text/plain": [
       "LinearRegression()"
      ]
     },
     "execution_count": 876,
     "metadata": {},
     "output_type": "execute_result"
    }
   ],
   "source": [
    "lr.fit(X_train[['distance_traveled_km', 'pickup_hour', 'passenger_count']], y_train)"
   ]
  },
  {
   "cell_type": "code",
   "execution_count": 877,
   "metadata": {},
   "outputs": [
    {
     "name": "stdout",
     "output_type": "stream",
     "text": [
      "Training:   rmse = 4.5211 \t mape = 32.8314\n",
      "Validation: rmse = 4.5186 \t mape = 32.7676\n"
     ]
    }
   ],
   "source": [
    "from sklearn.metrics import mean_squared_error\n",
    "\n",
    "def metrics(train_pred, valid_pred, y_train, y_valid):\n",
    "    \"\"\"Root mean squared error and mean absolute percentage error\"\"\"\n",
    "    \n",
    "    train_rmse = np.sqrt(mean_squared_error(y_train, train_pred))\n",
    "    valid_rmse = np.sqrt(mean_squared_error(y_valid, valid_pred))\n",
    "    \n",
    "    train_ape = abs((y_train - train_pred) / y_train)\n",
    "    valid_ape = abs((y_valid - valid_pred) / y_valid)\n",
    "\n",
    "    train_mape = 100 * np.mean(train_ape)\n",
    "    valid_mape = 100 * np.mean(valid_ape)\n",
    "    \n",
    "    return train_rmse, valid_rmse, train_mape, valid_mape\n",
    "\n",
    "def evaluate(model, features, X_train, X_valid, y_train, y_valid):\n",
    "    \"\"\"Mean absolute percentage error\"\"\"\n",
    "    \n",
    "    train_pred = model.predict(X_train[features])\n",
    "    valid_pred = model.predict(X_valid[features])\n",
    "    \n",
    "    train_rmse, valid_rmse, train_mape, valid_mape = metrics(train_pred, valid_pred, y_train, y_valid)\n",
    "    \n",
    "    print(f'Training:   rmse = {round(train_rmse, 4)} \\t mape = {round(train_mape, 4)}')\n",
    "    print(f'Validation: rmse = {round(valid_rmse, 4)} \\t mape = {round(valid_mape, 4)}')\n",
    "\n",
    "evaluate(lr, ['distance_traveled_km', 'pickup_hour', 'passenger_count'], \n",
    "        X_train, X_valid, y_train, y_valid)"
   ]
  },
  {
   "cell_type": "markdown",
   "metadata": {},
   "source": [
    "To determine the quality of this mode, I'll compare these metrics to a baseline of simply averaging the fare to get predictions"
   ]
  },
  {
   "cell_type": "code",
   "execution_count": 878,
   "metadata": {},
   "outputs": [
    {
     "name": "stdout",
     "output_type": "stream",
     "text": [
      "Baseline Training:   rmse = 5.8894 \t mape = 50.6259\n",
      "Baseline Validation: rmse = 5.8918 \t mape = 50.6201\n"
     ]
    }
   ],
   "source": [
    "train_mean = y_train.mean()\n",
    "\n",
    "# Create list of the same prediction for every observation\n",
    "train_preds = [train_mean for _ in range(len(y_train))]\n",
    "valid_preds = [train_mean for _ in range(len(y_valid))]\n",
    "\n",
    "tr, vr, tm, vm = metrics(train_preds, valid_preds, y_train, y_valid)\n",
    "\n",
    "print(f'Baseline Training:   rmse = {round(tr, 4)} \\t mape = {round(tm, 4)}')\n",
    "print(f'Baseline Validation: rmse = {round(vr, 4)} \\t mape = {round(vm, 4)}')"
   ]
  },
  {
   "cell_type": "markdown",
   "metadata": {},
   "source": [
    "By both metrics, the linear regression model does better"
   ]
  },
  {
   "cell_type": "markdown",
   "metadata": {},
   "source": [
    "Now, to make a submission, I'll make predictions on the test data and save them to a csv"
   ]
  },
  {
   "cell_type": "code",
   "execution_count": 879,
   "metadata": {},
   "outputs": [],
   "source": [
    "test = pd.read_csv('test.csv')\n",
    "\n",
    "# add pickup_hour to test\n",
    "def time_parse(time_str):\n",
    "    time = time_str.split()[1]\n",
    "    return int(time.split(\":\")[0])\n",
    "\n",
    "test['pickup_hour'] = test.apply(lambda x: time_parse(x['pickup_datetime']), axis=1)\n",
    "\n",
    "# add hav_distance to test\n",
    "def hav_distance(lon1, lat1, lon2, lat2):\n",
    "    # use sklearn's haversine function and multiply by Earth's radius to get distance in km\n",
    "    return haversine_distances([[lon1, lat1], [lon2, lat2]])[0][1] * 6371000/1000\n",
    "\n",
    "# create new feature using this function, distance in km\n",
    "test['distance_traveled_km'] = test.apply(lambda x: hav_distance(x['pickup_longitude'], x['pickup_latitude'], \n",
    "                                                             x['dropoff_longitude'], x['dropoff_latitude']), axis=1)"
   ]
  },
  {
   "cell_type": "code",
   "execution_count": 882,
   "metadata": {},
   "outputs": [],
   "source": [
    "preds = lr.predict(test[['distance_traveled_km', 'pickup_hour', 'passenger_count']])\n",
    "\n",
    "\n",
    "sub = pd.DataFrame({'fare_amount': preds})\n",
    "sub.to_csv('submission.csv', index = False)"
   ]
  }
 ],
 "metadata": {
  "kernelspec": {
   "display_name": "Python 3",
   "language": "python",
   "name": "python3"
  },
  "language_info": {
   "codemirror_mode": {
    "name": "ipython",
    "version": 3
   },
   "file_extension": ".py",
   "mimetype": "text/x-python",
   "name": "python",
   "nbconvert_exporter": "python",
   "pygments_lexer": "ipython3",
   "version": "3.8.3"
  }
 },
 "nbformat": 4,
 "nbformat_minor": 4
}
